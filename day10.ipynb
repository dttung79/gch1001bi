{
 "cells": [
  {
   "cell_type": "code",
   "execution_count": 12,
   "metadata": {},
   "outputs": [
    {
     "name": "stdout",
     "output_type": "stream",
     "text": [
      "2 4 6 \n",
      "2 4 6 "
     ]
    }
   ],
   "source": [
    "a = [i for i in range(2, 12, 2)] # a is a list\n",
    "b = (i for i in range(2, 12, 2)) # b is a generator\n",
    "i = 0\n",
    "while i < 3:\n",
    "    print(a[i], end=' ')\n",
    "    i += 1\n",
    "print()\n",
    "i = 0\n",
    "for n in b:\n",
    "    print(n, end=' ')\n",
    "    i += 1\n",
    "    if i == 3:\n",
    "        break"
   ]
  },
  {
   "cell_type": "code",
   "execution_count": 14,
   "metadata": {},
   "outputs": [
    {
     "name": "stdout",
     "output_type": "stream",
     "text": [
      "18\n",
      "0\n"
     ]
    }
   ],
   "source": [
    "s = 0\n",
    "i = 3\n",
    "while i < 5:\n",
    "    s += a[i]\n",
    "    i += 1\n",
    "print(s)\n",
    "\n",
    "s = 0\n",
    "i = 3\n",
    "for n in b:\n",
    "    s += n\n",
    "    i += 1\n",
    "    if i == 5:\n",
    "        break\n",
    "print(s)"
   ]
  },
  {
   "cell_type": "code",
   "execution_count": 15,
   "metadata": {},
   "outputs": [
    {
     "name": "stdout",
     "output_type": "stream",
     "text": [
      "[14 37  3 10 75 53 35 67 95 93 55 98  5 68 63 57 99 18 15 21]\n",
      "208\n"
     ]
    }
   ],
   "source": [
    "import numpy as np\n",
    "a = np.random.randint(1, 100, 20)\n",
    "print(a)\n",
    "# Calculate sum of even numbers in a using generator\n",
    "evens = (n for n in a if n % 2 == 0)\n",
    "print(sum(evens))"
   ]
  },
  {
   "cell_type": "code",
   "execution_count": 17,
   "metadata": {},
   "outputs": [
    {
     "name": "stdout",
     "output_type": "stream",
     "text": [
      "Tom Hanks, Thomat Cruise, "
     ]
    }
   ],
   "source": [
    "names = ['John Smith', 'Jane Amstrong', 'Peter Parker', 'Mary Dickson',\n",
    "         'Mike Taylor', 'Tom Hanks', 'Thomat Cruise', 'Harry Potter']\n",
    "# Print names that start with T\n",
    "t_names = (n for n in names if n[0] == 'T')\n",
    "for n in t_names:\n",
    "    print(n, end=', ')"
   ]
  },
  {
   "cell_type": "code",
   "execution_count": null,
   "metadata": {},
   "outputs": [],
   "source": [
    "students = {'John': (8.0, 90), 'Jane': (9.5, 85), 'Peter': (4.0, 95),\n",
    "            'Mary': (9.0, 30), 'Mike': (6.0, 55), 'Tom': (5.0, 70),\n",
    "            'Thomas': (7.0, 60), 'Harry': (4.0, 40)}\n",
    "\n",
    "# The most ative student: who gpa >= 7.0 and max activity score\n",
    "active_students = (n for n in students.items() if n[1][0] >= 7.0)\n",
    "most_active = max(active_students, key=lambda n: n[1][1])\n",
    "print(most_active)"
   ]
  },
  {
   "cell_type": "code",
   "execution_count": 20,
   "metadata": {},
   "outputs": [
    {
     "name": "stdout",
     "output_type": "stream",
     "text": [
      "('Mary', (9.0, 30))\n"
     ]
    }
   ],
   "source": [
    "# The mot nerd student who has activity score <= 60 and max GPA\n",
    "nerd_students = (n for n in students.items() if n[1][1] <= 60)\n",
    "most_nerd = max(nerd_students, key=lambda n: n[1][0])\n",
    "print(most_nerd)"
   ]
  },
  {
   "cell_type": "code",
   "execution_count": 27,
   "metadata": {},
   "outputs": [
    {
     "name": "stdout",
     "output_type": "stream",
     "text": [
      "Nerds:\n",
      "Mary, Mike, Thomas, Harry, \n",
      "Most nerd:\n",
      "Mary\n"
     ]
    }
   ],
   "source": [
    "def get_nerds(students):\n",
    "    for name, (gpa, activity) in students.items():\n",
    "        if activity <= 60:\n",
    "            yield name\n",
    "print('Nerds:')\n",
    "for n in get_nerds(students):\n",
    "    print(n, end=', ')\n",
    "print('\\nMost nerd:')\n",
    "most_nerd = max(get_nerds(students), key=lambda n: students[n][0])\n",
    "print(most_nerd)"
   ]
  },
  {
   "cell_type": "code",
   "execution_count": 29,
   "metadata": {},
   "outputs": [],
   "source": [
    "def fibancci(n):\n",
    "    if n < 2:\n",
    "        return 1\n",
    "    return fibancci(n-1) + fibancci(n-2)"
   ]
  },
  {
   "cell_type": "code",
   "execution_count": 30,
   "metadata": {},
   "outputs": [
    {
     "name": "stdout",
     "output_type": "stream",
     "text": [
      "1 1 2 3 5 8 13 21 34 55 89 144 233 377 610 "
     ]
    }
   ],
   "source": [
    "for i in range(15):\n",
    "    print(fibancci(i), end=' ')"
   ]
  },
  {
   "cell_type": "code",
   "execution_count": 34,
   "metadata": {},
   "outputs": [],
   "source": [
    "def fig_gen(n):\n",
    "    a = b = 1\n",
    "    i = 0\n",
    "    while True:\n",
    "        yield a\n",
    "        a, b = b, a + b\n",
    "        i += 1\n",
    "        if i == n:\n",
    "            break"
   ]
  },
  {
   "cell_type": "code",
   "execution_count": null,
   "metadata": {},
   "outputs": [],
   "source": [
    "for n in fig_gen(100):\n",
    "    print(n, end=' ')"
   ]
  },
  {
   "cell_type": "code",
   "execution_count": 39,
   "metadata": {},
   "outputs": [],
   "source": [
    "# Write a generator that generates even numbers less than n\n",
    "def even_gen(n):\n",
    "    i = 0\n",
    "    while i < n:\n",
    "        yield i\n",
    "        i += 2"
   ]
  },
  {
   "cell_type": "code",
   "execution_count": 41,
   "metadata": {},
   "outputs": [
    {
     "name": "stdout",
     "output_type": "stream",
     "text": [
      "0 2 4 6 8 10 12 14 16 18 20 22 24 26 28 30 32 34 36 38 40 42 44 46 48 50 52 54 56 58 60 62 64 66 68 70 72 74 76 78 80 82 84 86 88 90 92 94 96 98 2450\n"
     ]
    }
   ],
   "source": [
    "# Print even numbers less than 100\n",
    "for n in even_gen(100):\n",
    "    print(n, end=' ')\n",
    "# Calculate sum of even numbers less than 100\n",
    "print(sum(even_gen(100)))"
   ]
  },
  {
   "cell_type": "code",
   "execution_count": 1,
   "metadata": {},
   "outputs": [
    {
     "name": "stdout",
     "output_type": "stream",
     "text": [
      "220.0\n"
     ]
    }
   ],
   "source": [
    "pizzas = [['Pepperoni', 12], \n",
    "          ['Mushrooms', 15], \n",
    "          ['Onions', 10],\n",
    "          ['Sausage', 7]]\n",
    "solds = (p[1] for p in pizzas)   # generator 1 generates sold numbers\n",
    "sales = (5.0 * s for s in solds) # generator 2 generates sales based generator 1\n",
    "print(sum(sales))"
   ]
  },
  {
   "cell_type": "code",
   "execution_count": 6,
   "metadata": {},
   "outputs": [],
   "source": [
    "def pyramid_gen(n):\n",
    "    p = 0\n",
    "    for i in range(1, n + 1):\n",
    "        p = p + i ** 2\n",
    "        yield p\n"
   ]
  },
  {
   "cell_type": "code",
   "execution_count": 7,
   "metadata": {},
   "outputs": [
    {
     "name": "stdout",
     "output_type": "stream",
     "text": [
      "1 5 14 30 55 "
     ]
    }
   ],
   "source": [
    "for p in pyramid_gen(5):\n",
    "    print(p, end=' ')"
   ]
  }
 ],
 "metadata": {
  "kernelspec": {
   "display_name": "Python 3",
   "language": "python",
   "name": "python3"
  },
  "language_info": {
   "codemirror_mode": {
    "name": "ipython",
    "version": 3
   },
   "file_extension": ".py",
   "mimetype": "text/x-python",
   "name": "python",
   "nbconvert_exporter": "python",
   "pygments_lexer": "ipython3",
   "version": "3.9.12"
  },
  "orig_nbformat": 4,
  "vscode": {
   "interpreter": {
    "hash": "aee8b7b246df8f9039afb4144a1f6fd8d2ca17a180786b69acc140d282b71a49"
   }
  }
 },
 "nbformat": 4,
 "nbformat_minor": 2
}
