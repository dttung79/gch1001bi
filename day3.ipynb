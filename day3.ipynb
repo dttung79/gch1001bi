{
 "cells": [
  {
   "cell_type": "code",
   "execution_count": 1,
   "metadata": {},
   "outputs": [
    {
     "name": "stdout",
     "output_type": "stream",
     "text": [
      "[1, 2, 3, 4, 5] <class 'list'>\n",
      "[1 2 3 4 5] <class 'numpy.ndarray'>\n"
     ]
    }
   ],
   "source": [
    "import numpy as np\n",
    "# create an array from a list\n",
    "a = [1, 2, 3, 4, 5]\n",
    "b = np.array(a)\n",
    "print(a, type(a))\n",
    "print(b, type(b))"
   ]
  },
  {
   "cell_type": "code",
   "execution_count": 3,
   "metadata": {},
   "outputs": [
    {
     "name": "stdout",
     "output_type": "stream",
     "text": [
      "['1' 'hello' '3.14']\n"
     ]
    }
   ],
   "source": [
    "a = [1, 'hello', 3.14]\n",
    "b = np.array(a)\n",
    "print(b)"
   ]
  },
  {
   "cell_type": "code",
   "execution_count": 9,
   "metadata": {},
   "outputs": [
    {
     "name": "stdout",
     "output_type": "stream",
     "text": [
      "[ 0  2  4  6  8 10]\n",
      "[0 2 4 6 8]\n",
      "[0.         0.33333333 0.66666667 1.         1.33333333 1.66666667\n",
      " 2.         2.33333333 2.66666667 3.         3.33333333 3.66666667\n",
      " 4.         4.33333333 4.66666667]\n",
      "0.3333333333333333\n"
     ]
    }
   ],
   "source": [
    "# linspace function: create arrays with evenly spaced values\n",
    "# syntax: np.linspace(start, stop, num=50, endpoint=True, retstep=False, dtype=None)\n",
    "a = np.linspace(0, 10, 6, dtype=int)\n",
    "print(a)\n",
    "a = np.linspace(0, 10, 5, endpoint=False, dtype=int)\n",
    "print(a)\n",
    "a, distance = np.linspace(0, 5, 15, retstep=True, endpoint=False)\n",
    "print(a)\n",
    "print(distance)"
   ]
  },
  {
   "cell_type": "code",
   "execution_count": 16,
   "metadata": {},
   "outputs": [
    {
     "name": "stdout",
     "output_type": "stream",
     "text": [
      "[0 2 4 6 8]\n",
      "[ 0.   0.5  1.   1.5  2.   2.5  3.   3.5  4.   4.5  5.   5.5  6.   6.5\n",
      "  7.   7.5  8.   8.5  9.   9.5 10.  10.5 11.  11.5 12.  12.5 13.  13.5\n",
      " 14.  14.5]\n"
     ]
    }
   ],
   "source": [
    "# arange function: create arrays with evenly spaced values\n",
    "# syntax: np.arange(start, stop, step, dtype=None)\n",
    "a = np.arange(0, 10, 2)\n",
    "print(a)\n",
    "b = np.arange(0, 15, 0.5)\n",
    "print(b)"
   ]
  },
  {
   "cell_type": "code",
   "execution_count": null,
   "metadata": {},
   "outputs": [],
   "source": [
    "# logspace function: create arrays with evenly spaced values on a log scale\n",
    "# syntax: np.logspace(start, stop, num=50, endpoint=True, base=10.0, dtype=None)"
   ]
  },
  {
   "cell_type": "code",
   "execution_count": 26,
   "metadata": {},
   "outputs": [
    {
     "name": "stdout",
     "output_type": "stream",
     "text": [
      "[   1   10  100 1000]\n",
      "[   2    4    8   16   32   64  128  256  512 1024]\n",
      "[    3    27   243  2187 19683]\n",
      "[1 3 5 7 9]\n"
     ]
    }
   ],
   "source": [
    "a = np.logspace(0, 3, 4, base=10, dtype=int)\n",
    "print(a)\n",
    "a = np.logspace(1, 10, 10, base=2, dtype=int)\n",
    "print(a)\n",
    "a = np.logspace(1, 9, 5, base=3, dtype=int)\n",
    "print(a)\n",
    "b = np.linspace(1, 9, 5, dtype=int)\n",
    "print(b)"
   ]
  },
  {
   "cell_type": "code",
   "execution_count": 28,
   "metadata": {},
   "outputs": [
    {
     "name": "stdout",
     "output_type": "stream",
     "text": [
      "[0 0 0 0 0]\n",
      "[1 1 1 1 1 1 1 1 1 1]\n"
     ]
    }
   ],
   "source": [
    "a = np.zeros(5, dtype=int)\n",
    "print(a)\n",
    "a = np.ones(10, dtype=int)\n",
    "print(a)"
   ]
  },
  {
   "cell_type": "code",
   "execution_count": 34,
   "metadata": {},
   "outputs": [
    {
     "name": "stdout",
     "output_type": "stream",
     "text": [
      "[6 6 6 6 6]\n",
      "[-4 -2  0  2  4]\n",
      "[5 8 9 8 5]\n",
      "[0.2 0.5 1.  2.  5. ]\n",
      "[0 0 1 2 5]\n",
      "[1 2 0 0 0]\n",
      "[ 1 16 27 16  5]\n"
     ]
    }
   ],
   "source": [
    "# Arithmetic operations on arrays: +, -, *, /, //, %, **\n",
    "# with one condition: the arrays must have the same shape\n",
    "a = np.array([1, 2, 3, 4, 5])\n",
    "b = np.array([5, 4, 3, 2, 1])\n",
    "print(a + b)\n",
    "print(a - b)\n",
    "print(a * b)\n",
    "print(a / b)\n",
    "print(a // b)\n",
    "print(a % b)\n",
    "print(a ** b)"
   ]
  },
  {
   "cell_type": "code",
   "execution_count": 36,
   "metadata": {},
   "outputs": [
    {
     "name": "stdout",
     "output_type": "stream",
     "text": [
      "[11 12 13 14 15]\n",
      "[-9 -8 -7 -6 -5]\n",
      "[10 20 30 40 50]\n",
      "[0.1 0.2 0.3 0.4 0.5]\n",
      "[0 0 0 0 0]\n",
      "[1 2 3 4 5]\n",
      "[      1    1024   59049 1048576 9765625]\n"
     ]
    }
   ],
   "source": [
    "# Arithmetic operations on arrays with a number: +, -, *, /, //, %, **\n",
    "a = np.array([1, 2, 3, 4, 5])\n",
    "b = a + 10\n",
    "print(b)\n",
    "print(a - 10)\n",
    "print(a * 10)\n",
    "print(a / 10)\n",
    "print(a // 10)\n",
    "print(a % 10)\n",
    "print(a ** 10)"
   ]
  },
  {
   "cell_type": "code",
   "execution_count": 37,
   "metadata": {},
   "outputs": [
    {
     "name": "stdout",
     "output_type": "stream",
     "text": [
      "[21 78 73 21 45 65 68 58 96 62 18 91 64 26 25 49 29 42 54 30]\n"
     ]
    }
   ],
   "source": [
    "# create array of 20 random integers from 10 to 99\n",
    "a = np.random.randint(10, 100, 20)\n",
    "print(a)"
   ]
  },
  {
   "cell_type": "code",
   "execution_count": 38,
   "metadata": {},
   "outputs": [
    {
     "name": "stdout",
     "output_type": "stream",
     "text": [
      "[False  True False False False False  True  True  True  True  True False\n",
      "  True  True False False False  True  True  True]\n"
     ]
    }
   ],
   "source": [
    "b = a % 2 == 0\n",
    "print(b)"
   ]
  },
  {
   "cell_type": "code",
   "execution_count": 40,
   "metadata": {},
   "outputs": [
    {
     "name": "stdout",
     "output_type": "stream",
     "text": [
      "[78 68 58 96 62 18 64 26 42 54 30]\n",
      "[21 73 21 45 65 91 25 49 29]\n"
     ]
    }
   ],
   "source": [
    "evens = a[b]\n",
    "print(evens)\n",
    "odds = a[a % 2 == 1]\n",
    "print(odds)"
   ]
  },
  {
   "cell_type": "code",
   "execution_count": 41,
   "metadata": {},
   "outputs": [
    {
     "name": "stdout",
     "output_type": "stream",
     "text": [
      "[85 67 61 89 98  6 66 16 23 65 40 59]\n",
      "[-59 -86 -70 -78 -90 -81 -81 -22]\n"
     ]
    }
   ],
   "source": [
    "# create 20 random numbers from -99 to 99\n",
    "a = np.random.randint(-99, 100, 20)\n",
    "# find positive numbers\n",
    "positives = a[a > 0]\n",
    "# find negative numbers\n",
    "negatives = a[a < 0]\n",
    "print(positives, negatives, sep='\\n')"
   ]
  },
  {
   "cell_type": "code",
   "execution_count": 46,
   "metadata": {},
   "outputs": [
    {
     "name": "stdout",
     "output_type": "stream",
     "text": [
      "[ 0  2  4  6  8 10 12 14 16 18]\n",
      "[ 0  2  4  6  8 10 12 14 16 18]\n"
     ]
    }
   ],
   "source": [
    "# Create array of 10 integers from 0 to 20 (exclusive), equally spacing by using linspace\n",
    "a = np.linspace(0, 20, 10, endpoint=False, dtype=int)\n",
    "print(a)\n",
    "# Create array of 10 integers from 0 to 20 (exclusive), equally spacing by using arange\n",
    "a = np.arange(0, 20, 2, dtype=int)\n",
    "print(a)"
   ]
  },
  {
   "cell_type": "code",
   "execution_count": 50,
   "metadata": {},
   "outputs": [
    {
     "name": "stdout",
     "output_type": "stream",
     "text": [
      "[32 41 24 33 59 85 76 55 63 54 36 37 53 59 83  8 47 59 61 84]\n",
      "[ 8 24 32 36 54 76 84]\n",
      "[33 37 41 47 53 55 59 59 59 61 63 83 85]\n",
      "[ 8 24 32 36 54 76 84 33 37 41 47 53 55 59 59 59 61 63 83 85]\n"
     ]
    }
   ],
   "source": [
    "a = np.random.randint(0, 100, 20)\n",
    "print(a)\n",
    "evens = a[a % 2 == 0]\n",
    "odds = a[a % 2 == 1]\n",
    "evens = np.array(sorted(evens))\n",
    "odds = np.array(sorted(odds))\n",
    "print(evens, odds, sep='\\n')\n",
    "a = np.concatenate((evens, odds))\n",
    "print(a)"
   ]
  }
 ],
 "metadata": {
  "kernelspec": {
   "display_name": "Python 3",
   "language": "python",
   "name": "python3"
  },
  "language_info": {
   "codemirror_mode": {
    "name": "ipython",
    "version": 3
   },
   "file_extension": ".py",
   "mimetype": "text/x-python",
   "name": "python",
   "nbconvert_exporter": "python",
   "pygments_lexer": "ipython3",
   "version": "3.9.12 (main, Mar 26 2022, 15:52:10) \n[Clang 13.0.0 (clang-1300.0.29.30)]"
  },
  "orig_nbformat": 4,
  "vscode": {
   "interpreter": {
    "hash": "aee8b7b246df8f9039afb4144a1f6fd8d2ca17a180786b69acc140d282b71a49"
   }
  }
 },
 "nbformat": 4,
 "nbformat_minor": 2
}
