{
 "cells": [
  {
   "cell_type": "code",
   "execution_count": 1,
   "metadata": {},
   "outputs": [
    {
     "name": "stdout",
     "output_type": "stream",
     "text": [
      "[ 2.65306122  7.25490196 11.8        13.79310345 20.85106383 17.38461538]\n"
     ]
    }
   ],
   "source": [
    "# exercise\n",
    "import numpy as np\n",
    "\n",
    "y = np.array([0., 1.3, 5. , 10.9, 18.9, 28.7, 40.])\n",
    "t = np.array([0., 0.49, 1. , 1.5 , 2.08, 2.55, 3.2])\n",
    "\n",
    "v = (y[1:] - y[:-1]) / (t[1:] - t[:-1])\n",
    "print(v)"
   ]
  },
  {
   "cell_type": "code",
   "execution_count": 7,
   "metadata": {},
   "outputs": [
    {
     "name": "stdout",
     "output_type": "stream",
     "text": [
      "[ 82 -56  74 -26 -52 -58 -82 -34 -45  -8 -73 -30  93 -85 -97 -55  58 -70\n",
      " -42  39]\n",
      "[82 74 93 58 39]\n",
      "[82 56 74 26 52 58 82 34 45  8 73 30 93 85 97 55 58 70 42 39]\n"
     ]
    }
   ],
   "source": [
    "a = np.random.randint(-99, 100, 20)\n",
    "print(a)\n",
    "positives = a[a > 0]\n",
    "print(positives)\n",
    "# convert negatives to 0\n",
    "# a[a < 0] = 0\n",
    "# convert negatives to their absolute value\n",
    "a[a < 0] *= -1\n",
    "print(a)"
   ]
  },
  {
   "cell_type": "code",
   "execution_count": 20,
   "metadata": {},
   "outputs": [],
   "source": [
    "names = np.array(['Bob Dylan', '', 'Will Smith', 'Mike Tyson', 'William Cuong', 'Joe Hart', 'Laura Amstrong'])\n",
    "ages = np.array([24, 18, -29, 20, 90, 250, 26])"
   ]
  },
  {
   "cell_type": "code",
   "execution_count": null,
   "metadata": {},
   "outputs": [],
   "source": [
    "# For any empty name, change it to “John Doe”\n",
    "names[names==''] = 'John'\n",
    "print(names)\n",
    "# For any age less than 0, change it to 0\n",
    "ages[ages < 0] = 0\n",
    "# For any age greater than 150, change it to 150\n",
    "ages[ages > 150] = 150\n",
    "print(ages)\n",
    "# Find min, max of age\n",
    "print('Min age =', min(ages))\n",
    "print('Max age =', max(ages))\n",
    "# Find longest name, shortest name\n",
    "print('Longest name =', max(names, key=len))\n",
    "print('Shortest name =', min(names, key=len))"
   ]
  },
  {
   "cell_type": "code",
   "execution_count": 22,
   "metadata": {},
   "outputs": [
    {
     "name": "stdout",
     "output_type": "stream",
     "text": [
      "[[36 23 86 92 47]\n",
      " [91 85 12 39 99]\n",
      " [13 38 70 88 57]\n",
      " [91 94 39 24 30]\n",
      " [81 84 61 89 68]]\n"
     ]
    }
   ],
   "source": [
    "a = np.array([np.random.randint(10, 100, 5),\n",
    "              np.random.randint(10, 100, 5),\n",
    "              np.random.randint(10, 100, 5),\n",
    "              np.random.randint(10, 100, 5),\n",
    "              np.random.randint(10, 100, 5)])\n",
    "print(a)"
   ]
  },
  {
   "cell_type": "code",
   "execution_count": 26,
   "metadata": {},
   "outputs": [
    {
     "name": "stdout",
     "output_type": "stream",
     "text": [
      "57\n",
      "[13 38 70 88 57]\n",
      "[86 12 70 39 61]\n",
      "[[86 92 47]\n",
      " [12 39 99]\n",
      " [70 88 57]\n",
      " [39 24 30]\n",
      " [61 89 68]]\n"
     ]
    }
   ],
   "source": [
    "print(a[2, 4])\n",
    "print(a[2])\n",
    "print(a[:, 2])\n",
    "print(a[:, 2:])"
   ]
  },
  {
   "cell_type": "code",
   "execution_count": 27,
   "metadata": {},
   "outputs": [
    {
     "name": "stdout",
     "output_type": "stream",
     "text": [
      "[[36 23 86 92 47]\n",
      " [91 85 12 39 99]\n",
      " [13 38 70 88 57]\n",
      " [91 94 39 24 30]\n",
      " [81 84 61 89 68]]\n"
     ]
    }
   ],
   "source": [
    "print(a)"
   ]
  },
  {
   "cell_type": "code",
   "execution_count": 29,
   "metadata": {},
   "outputs": [
    {
     "name": "stdout",
     "output_type": "stream",
     "text": [
      "[[23 86 92]\n",
      " [85 12 39]\n",
      " [38 70 88]]\n",
      "[[12 39]\n",
      " [70 88]\n",
      " [39 24]]\n"
     ]
    }
   ],
   "source": [
    "print(a[:3, 1:4])\n",
    "print(a[1:4, 2:4])"
   ]
  },
  {
   "cell_type": "code",
   "execution_count": 35,
   "metadata": {},
   "outputs": [
    {
     "name": "stdout",
     "output_type": "stream",
     "text": [
      "[[1 1 1 1 1]\n",
      " [1 1 1 1 1]\n",
      " [1 1 1 1 1]\n",
      " [1 1 1 1 1]\n",
      " [1 1 1 1 1]]\n",
      "[[0 0 0 0 0 0]\n",
      " [0 0 0 0 0 0]]\n",
      "[[2 2 2 2 2]\n",
      " [2 2 2 2 2]\n",
      " [2 2 2 2 2]\n",
      " [2 2 2 2 2]\n",
      " [2 2 2 2 2]]\n"
     ]
    }
   ],
   "source": [
    "ones = np.ones((5, 5), dtype=int)\n",
    "print(ones)\n",
    "zeros = np.zeros((2, 6), dtype=int)\n",
    "print(zeros)\n",
    "twos = ones * 2\n",
    "print(twos)"
   ]
  },
  {
   "cell_type": "code",
   "execution_count": 36,
   "metadata": {},
   "outputs": [
    {
     "name": "stdout",
     "output_type": "stream",
     "text": [
      "[[1 1 1 1 1]\n",
      " [0 0 0 0 0]\n",
      " [1 1 1 1 1]\n",
      " [1 1 1 1 1]\n",
      " [1 1 1 1 1]]\n"
     ]
    }
   ],
   "source": [
    "ones[1] = 0\n",
    "print(ones)"
   ]
  },
  {
   "cell_type": "code",
   "execution_count": null,
   "metadata": {},
   "outputs": [],
   "source": [
    "# a. Create an 8 × 8 array with ones on all the edges and zeros everywhere else. \n",
    "ones = np.ones((8, 8), dtype=int)\n",
    "ones[1:-1, 1:-1] = 0\n",
    "print(ones)\n",
    "# b. Create an 8 × 8 array of integers with a checkerboard pattern of ones and zeros.\n",
    "checkboard = np.zeros((8, 8), dtype=int)\n",
    "checkboard[::2, ::2] = 1\n",
    "checkboard[1::2, 1::2] = 1\n",
    "print(checkboard)\n"
   ]
  },
  {
   "cell_type": "code",
   "execution_count": 40,
   "metadata": {},
   "outputs": [
    {
     "name": "stdout",
     "output_type": "stream",
     "text": [
      "[[17 77 33 42 19 68 55 29]\n",
      " [54 19 17 35 36 48 37 90]\n",
      " [10 52 40 79 54 87 15 80]\n",
      " [91 38 89 38 64 48 38 17]\n",
      " [83 80 91 91 92 58 81 61]\n",
      " [76 13 95 44 35 32 54 72]\n",
      " [72 29 68 81 78 32 59 70]\n",
      " [64 14 94 94 68 37 16 41]]\n",
      "[[-17 -77  33  42 -19 -68 -55 -29]\n",
      " [ 54 -19 -17 -35  36  48 -37  90]\n",
      " [-10 -52 -40 -79  54  87  15 -80]\n",
      " [-91 -38 -89 -38 -64  48 -38 -17]\n",
      " [-83 -80 -91 -91 -92 -58  81 -61]\n",
      " [-76 -13 -95 -44 -35 -32  54  72]\n",
      " [ 72 -29 -68  81  78 -32 -59 -70]\n",
      " [-64 -14 -94 -94 -68 -37 -16 -41]]\n"
     ]
    }
   ],
   "source": [
    "# c. Create an 8 x 8 array of random integers (10, 99), make all the numbers not divisible by 3 negative. \n",
    "a = np.random.randint(10, 100, (8, 8))\n",
    "print(a)\n",
    "a[a % 3 != 0] *= -1\n",
    "print(a)"
   ]
  },
  {
   "cell_type": "code",
   "execution_count": 42,
   "metadata": {},
   "outputs": [
    {
     "name": "stdout",
     "output_type": "stream",
     "text": [
      "16\n",
      "(4, 4)\n"
     ]
    }
   ],
   "source": [
    "# d. Split the matrix above into 4 submatrices 4x4\n",
    "# e. Find the size, shape, mean, and standard deviation of the matrices you created in part d\n",
    "q1 = a[:4, :4]\n",
    "print(np.size(q1))\n",
    "print(np.shape(q1))"
   ]
  },
  {
   "cell_type": "code",
   "execution_count": 45,
   "metadata": {},
   "outputs": [
    {
     "name": "stdout",
     "output_type": "stream",
     "text": [
      "[[1 2 3 4]] (1, 4)\n",
      "[1 2 3 4] (4,)\n"
     ]
    }
   ],
   "source": [
    "a2d = np.array([[1, 2, 3, 4]])\n",
    "b1d = np.array([1, 2, 3, 4])\n",
    "print(a2d, np.shape(a2d))\n",
    "print(b1d, np.shape(b1d))"
   ]
  }
 ],
 "metadata": {
  "kernelspec": {
   "display_name": "Python 3",
   "language": "python",
   "name": "python3"
  },
  "language_info": {
   "codemirror_mode": {
    "name": "ipython",
    "version": 3
   },
   "file_extension": ".py",
   "mimetype": "text/x-python",
   "name": "python",
   "nbconvert_exporter": "python",
   "pygments_lexer": "ipython3",
   "version": "3.9.12"
  },
  "orig_nbformat": 4,
  "vscode": {
   "interpreter": {
    "hash": "aee8b7b246df8f9039afb4144a1f6fd8d2ca17a180786b69acc140d282b71a49"
   }
  }
 },
 "nbformat": 4,
 "nbformat_minor": 2
}
