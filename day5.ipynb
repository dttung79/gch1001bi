{
 "cells": [
  {
   "cell_type": "code",
   "execution_count": 6,
   "metadata": {},
   "outputs": [
    {
     "name": "stdout",
     "output_type": "stream",
     "text": [
      "{'gch0001': 'Le Van Minh', 'gch0002': 'Nguyen Van An', 'gch0003': 'Hoang Van Binh', 'gch0004': 'Nguyen Thi Bich'}\n",
      "Student kjkjkjk not found\n"
     ]
    }
   ],
   "source": [
    "# Dictionary definition: A collection of key-value pairs in a way that \n",
    "# allows you to access values by their associated keys (no duplicates)\n",
    "students = {'gch0001': 'Le Van Minh', 'gch0002': 'Nguyen Van An', \n",
    "            'gch0003': 'Hoang Van Binh', 'gch0004': 'Nguyen Thi Bich'}\n",
    "print(students)\n",
    "# Access value by key\n",
    "id = input('Enter student id: ')\n",
    "if id in students:\n",
    "    print(students[id])\n",
    "else:\n",
    "    print(f'Student {id} not found')"
   ]
  },
  {
   "cell_type": "code",
   "execution_count": null,
   "metadata": {},
   "outputs": [],
   "source": [
    "# Add new item\n",
    "id = input('Enter student id: ')\n",
    "name = input('Enter student name: ')\n",
    "\n",
    "if id not in students:\n",
    "    students[id] = name # add new item if id is not existed\n",
    "    print(students)\n",
    "else:\n",
    "    print(f'Student {id} is already existed')"
   ]
  },
  {
   "cell_type": "code",
   "execution_count": 9,
   "metadata": {},
   "outputs": [
    {
     "name": "stdout",
     "output_type": "stream",
     "text": [
      "Student gch0009 is not existed\n",
      "{'gch0001': 'Le Van Minh', 'gch0002': 'Nguyen Van An', 'gch0003': 'Luu Tuyet Mai', 'gch0004': 'Nguyen Thi Bich', 'gch0005': 'Tran Duc Trung'}\n"
     ]
    }
   ],
   "source": [
    "# Edit item\n",
    "id = input('Enter student id: ')\n",
    "name = input('Enter student name: ')\n",
    "\n",
    "if id in students:\n",
    "    students[id] = name # add new item if id is not existed\n",
    "    print(students)\n",
    "else:\n",
    "    print(f'Student {id} is not existed')"
   ]
  },
  {
   "cell_type": "code",
   "execution_count": 11,
   "metadata": {},
   "outputs": [
    {
     "name": "stdout",
     "output_type": "stream",
     "text": [
      "{'gch0001': 'Le Van Minh', 'gch0002': 'Nguyen Van An', 'gch0004': 'Nguyen Thi Bich', 'gch0005': 'Tran Duc Trung'}\n"
     ]
    }
   ],
   "source": [
    "# Delete item\n",
    "id = input('Enter student id: ')\n",
    "if id in students:\n",
    "    del students[id] # delete item by key\n",
    "    print(students)\n",
    "else:\n",
    "    print(f'Student {id} is not existed')"
   ]
  },
  {
   "cell_type": "code",
   "execution_count": null,
   "metadata": {},
   "outputs": [],
   "source": [
    "rooms = {} # empty dictionary, key is guest name, value is the room number\n",
    "while True:\n",
    "    print('Welcome to the Hotel California')\n",
    "    print('1. Check in')\n",
    "    print('2. Check out')\n",
    "    print('3. Change room')\n",
    "    print('4. Show all rooms')\n",
    "    print('5. Exit')\n",
    "\n",
    "    choice = int(input('Enter your choice: '))\n",
    "    if choice == 1:\n",
    "        # TODO: Check in, ask guest name and room number then add to rooms\n",
    "        name = input('What is your name: ')\n",
    "        room_no = input('Which room number do you book: ')\n",
    "        if name not in rooms:\n",
    "            rooms[name] = room_no\n",
    "            print(f'Welcome {name}, your room is {room_no}')\n",
    "        else:\n",
    "            print(f'{name} is already checked in')\n",
    "    elif choice == 2:\n",
    "        # TODO: Check out, ask guest name then remove from rooms\n",
    "        name = input('What is your name: ')\n",
    "        if name in rooms:\n",
    "            del rooms[name]\n",
    "            print(f'Good bye {name}. See you again')\n",
    "    elif choice == 3:\n",
    "        # TODO: Change room, ask guest name and new room number then update rooms\n",
    "        name = input('What is your name: ')\n",
    "        if name in rooms:\n",
    "            room_no = input('Which room number do you want to change: ')\n",
    "            rooms[name] = room_no\n",
    "            print(f'Your new room is {room_no}')\n",
    "        else:\n",
    "            print(f'{name} is not checked in')\n",
    "    elif choice == 4:\n",
    "        print('Current guests & rooms')\n",
    "        print(rooms)\n",
    "    elif choice == 5:\n",
    "        print('Good bye')\n",
    "        break\n",
    "    else:\n",
    "        print('Invalid choice')"
   ]
  },
  {
   "cell_type": "code",
   "execution_count": 13,
   "metadata": {},
   "outputs": [],
   "source": [
    "students = {'Bob Dylan': 5.0, 'John Lennon': 4.5, 'Paul McCartney': 7.0,\n",
    "            'George Harrison': 9.5, 'Ringo Starr': 3.0, 'Mick Jagger': 6.0,\n",
    "            'Keith Richards': 8.0, 'Charlie Watts': 5.5, 'Ronnie Wood': 7.5}"
   ]
  },
  {
   "cell_type": "code",
   "execution_count": 14,
   "metadata": {},
   "outputs": [
    {
     "name": "stdout",
     "output_type": "stream",
     "text": [
      "George Harrison has highest GPA: 9.5\n"
     ]
    }
   ],
   "source": [
    "# Find student with highest GPA using for loop\n",
    "max_gpa = 0\n",
    "max_st = None\n",
    "for st, gpa in students.items():\n",
    "    if gpa > max_gpa:\n",
    "        max_gpa = gpa\n",
    "        max_st = st\n",
    "print(f'{max_st} has highest GPA: {max_gpa}')"
   ]
  },
  {
   "cell_type": "code",
   "execution_count": 15,
   "metadata": {},
   "outputs": [
    {
     "name": "stdout",
     "output_type": "stream",
     "text": [
      "[('Bob Dylan', 5.0), ('John Lennon', 4.5), ('Paul McCartney', 7.0), ('George Harrison', 9.5), ('Ringo Starr', 3.0), ('Mick Jagger', 6.0), ('Keith Richards', 8.0), ('Charlie Watts', 5.5), ('Ronnie Wood', 7.5)]\n"
     ]
    }
   ],
   "source": [
    "print(list(students.items()))"
   ]
  },
  {
   "cell_type": "code",
   "execution_count": 18,
   "metadata": {},
   "outputs": [
    {
     "name": "stdout",
     "output_type": "stream",
     "text": [
      "George Harrison has highest GPA: 9.5\n"
     ]
    }
   ],
   "source": [
    "# Find student with highest GPA using max function\n",
    "best_student = max(students, key=students.get)\n",
    "print(f'{best_student} has highest GPA: {students[best_student]}')"
   ]
  },
  {
   "cell_type": "code",
   "execution_count": 21,
   "metadata": {},
   "outputs": [
    {
     "name": "stdout",
     "output_type": "stream",
     "text": [
      "Average GPA: 6.22\n"
     ]
    }
   ],
   "source": [
    "sum_gpa = 0\n",
    "for _, gpa in students.items():\n",
    "    sum_gpa += gpa\n",
    "\n",
    "avg_gpa = sum_gpa / len(students)\n",
    "print(f'Average GPA: {avg_gpa:.2f}')"
   ]
  },
  {
   "cell_type": "code",
   "execution_count": 22,
   "metadata": {},
   "outputs": [
    {
     "name": "stdout",
     "output_type": "stream",
     "text": [
      "Average GPA: 6.22\n"
     ]
    }
   ],
   "source": [
    "sum_gpa = 0\n",
    "for gpa in students.values():\n",
    "    sum_gpa += gpa\n",
    "avg_gpa = sum_gpa / len(students)\n",
    "print(f'Average GPA: {avg_gpa:.2f}')"
   ]
  }
 ],
 "metadata": {
  "kernelspec": {
   "display_name": "Python 3",
   "language": "python",
   "name": "python3"
  },
  "language_info": {
   "codemirror_mode": {
    "name": "ipython",
    "version": 3
   },
   "file_extension": ".py",
   "mimetype": "text/x-python",
   "name": "python",
   "nbconvert_exporter": "python",
   "pygments_lexer": "ipython3",
   "version": "3.9.12"
  },
  "orig_nbformat": 4,
  "vscode": {
   "interpreter": {
    "hash": "aee8b7b246df8f9039afb4144a1f6fd8d2ca17a180786b69acc140d282b71a49"
   }
  }
 },
 "nbformat": 4,
 "nbformat_minor": 2
}
