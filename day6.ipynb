{
 "cells": [
  {
   "cell_type": "code",
   "execution_count": 7,
   "metadata": {},
   "outputs": [
    {
     "name": "stdout",
     "output_type": "stream",
     "text": [
      "11\n"
     ]
    }
   ],
   "source": [
    "s = 'the quick brown fox jumps over the lazy dog'\n",
    "count = 0\n",
    "for c in s:\n",
    "    count = count + (1 if c in 'aeiou' else 0)\n",
    "print(count)"
   ]
  },
  {
   "cell_type": "code",
   "execution_count": 9,
   "metadata": {},
   "outputs": [
    {
     "name": "stdout",
     "output_type": "stream",
     "text": [
      "8\n"
     ]
    }
   ],
   "source": [
    "a = int(input('Enter a: '))\n",
    "b = int(input('Enter b: '))\n",
    "\n",
    "m = a if a > b else b\n",
    "\n",
    "print(m)"
   ]
  },
  {
   "cell_type": "code",
   "execution_count": 15,
   "metadata": {},
   "outputs": [
    {
     "name": "stdout",
     "output_type": "stream",
     "text": [
      "the quick brown fox jumps over the lazy dog\n",
      "teqikbonfxjmsoe h aydg\n",
      "teqikbonfxjmsoe h aydg"
     ]
    }
   ],
   "source": [
    "print(s)\n",
    "for i, c in enumerate(s):\n",
    "    if i % 2 == 0:\n",
    "        print(f'{c}', end='')\n",
    "print()\n",
    "for i in range(len(s)):\n",
    "    if i % 2 == 0:\n",
    "        print(f'{s[i]}', end='')"
   ]
  },
  {
   "cell_type": "code",
   "execution_count": 16,
   "metadata": {},
   "outputs": [
    {
     "name": "stdout",
     "output_type": "stream",
     "text": [
      "[-59 -56 -36 -21  88 -72  71 -19 -25 -80 -45 -91  33  33  88 -87  72  57\n",
      " -75  20]\n",
      "[88 71 33 33 88 72 57 20]\n"
     ]
    }
   ],
   "source": [
    "import numpy as np\n",
    "a = np.random.randint(-99, 100, 20)\n",
    "print(a)\n",
    "print(a[a > 0])"
   ]
  },
  {
   "cell_type": "code",
   "execution_count": 20,
   "metadata": {},
   "outputs": [
    {
     "name": "stdout",
     "output_type": "stream",
     "text": [
      "[54, 0, -65, -94, -14, 74, 91, 55, -29, 41, -98, -59, -43, 61, -69, -73, 10, -77, 68, 93]\n",
      "[54, 74, 91, 55, 41, 61, 10, 68, 93]\n",
      "[54, 0, -94, -14, 74, -98, 10, 68]\n",
      "[-65, 91, 55, -29, 41, -59, -43, 61, -69, -73, -77, 93]\n"
     ]
    }
   ],
   "source": [
    "import random as rd\n",
    "a = rd.sample(range(-99, 100), 20)\n",
    "print(a)\n",
    "print([x for x in a if x > 0])\n",
    "print([x for x in a if x % 2 == 0])\n",
    "print([x for x in a if x % 2 != 0])"
   ]
  },
  {
   "cell_type": "code",
   "execution_count": 22,
   "metadata": {},
   "outputs": [
    {
     "name": "stdout",
     "output_type": "stream",
     "text": [
      "[83, 72, 23, 95, 27, 60, 24, 71, 19, 56, 25, 39, 67, 78, 38, 35, 59, 96, 65, 85]\n",
      "[3, 2, 3, 5, 7, 0, 4, 1, 9, 6, 5, 9, 7, 8, 8, 5, 9, 6, 5, 5]\n"
     ]
    }
   ],
   "source": [
    "a = rd.sample(range(10, 100), 20)\n",
    "print(a)\n",
    "b = [a % 10 for a in a]\n",
    "print(b)"
   ]
  },
  {
   "cell_type": "code",
   "execution_count": 23,
   "metadata": {},
   "outputs": [
    {
     "name": "stdout",
     "output_type": "stream",
     "text": [
      "[1, 1, 0, 1, 1, 0, 0, 1, 1, 1, 1, 1, 0, 1, 1, 1, 1, 0, 1, 1, 1, 0, 1, 1, 1, 1, 0, 1, 0, 1, 1, 1, 1, 0, 1, 1, 0, 1, 1, 1, 1, 0, 1]\n"
     ]
    }
   ],
   "source": [
    "s = 'the quick brown fox jumps over the lazy dog'\n",
    "m = [0 if c in 'aeiou' else 1 for c in s]\n",
    "print(m)"
   ]
  },
  {
   "cell_type": "code",
   "execution_count": 26,
   "metadata": {},
   "outputs": [
    {
     "name": "stdout",
     "output_type": "stream",
     "text": [
      "[2, 7, 12, 17]\n"
     ]
    }
   ],
   "source": [
    "a = [[1, 2, 3, 4, 5],\n",
    "     [6, 7, 8, 9, 10],\n",
    "     [11, 12, 13, 14, 15],\n",
    "     [16, 17, 18, 19, 20]]\n",
    "# Get the 2nd column\n",
    "print([row[1] for row in a])"
   ]
  },
  {
   "cell_type": "code",
   "execution_count": 27,
   "metadata": {},
   "outputs": [
    {
     "name": "stdout",
     "output_type": "stream",
     "text": [
      "[73, 27, 0, 20, 31, 36, 47, 26, 49, 5, 18, 22, 32, 29, 69, 62, 75, 25, 97, 94]\n",
      "[73, 69, 62, 75, 97, 94]\n"
     ]
    }
   ],
   "source": [
    "a = rd.sample(range(100), 20)\n",
    "print(a)\n",
    "a50 = [x for x in a if x > 50]\n",
    "print(a50)"
   ]
  },
  {
   "cell_type": "code",
   "execution_count": 29,
   "metadata": {},
   "outputs": [
    {
     "name": "stdout",
     "output_type": "stream",
     "text": [
      "41.85\n",
      "[73, 47, 49, 69, 62, 75, 97, 94]\n"
     ]
    }
   ],
   "source": [
    "m = sum(a) / len(a)\n",
    "print(m)\n",
    "am = [x for x in a if x > m]\n",
    "print(am)"
   ]
  },
  {
   "cell_type": "code",
   "execution_count": 31,
   "metadata": {},
   "outputs": [
    {
     "name": "stdout",
     "output_type": "stream",
     "text": [
      "[0, 20, 36, 26, 18, 22, 32, 62, 94, 73, 27, 31, 47, 49, 5, 29, 69, 75, 25, 97]\n"
     ]
    }
   ],
   "source": [
    "evens = [x for x in a if x % 2 == 0]\n",
    "odds = [x for x in a if x % 2 != 0]\n",
    "\n",
    "a = evens + odds\n",
    "print(a)"
   ]
  },
  {
   "cell_type": "code",
   "execution_count": 32,
   "metadata": {},
   "outputs": [
    {
     "name": "stdout",
     "output_type": "stream",
     "text": [
      "[0, 36, 18, 32, 94, 27, 47, 5, 69, 25]\n",
      "[20, 26, 22, 62, 73, 31, 49, 29, 75, 97]\n"
     ]
    }
   ],
   "source": [
    "e_index = [a[i] for i in range(0, len(a), 2)]\n",
    "o_index = [a[i] for i in range(1, len(a), 2)]\n",
    "print(e_index, o_index, sep='\\n')"
   ]
  },
  {
   "cell_type": "code",
   "execution_count": 36,
   "metadata": {},
   "outputs": [
    {
     "name": "stdout",
     "output_type": "stream",
     "text": [
      "George Harrison: 9.5\n",
      "Keith Richards: 8.0\n",
      "['George Harrison', 'Keith Richards']\n"
     ]
    }
   ],
   "source": [
    "students = {'Bob Dylan': 5.0, 'John Lennon': 4.5, 'Paul McCartney': 7.0,\n",
    "            'George Harrison': 9.5, 'Ringo Starr': 3.0, 'Mick Jagger': 6.0,\n",
    "            'Keith Richards': 8.0, 'Charlie Watts': 5.5, 'Ronnie Wood': 7.5}\n",
    "# Traditional for loop\n",
    "for s, gpa in students.items():\n",
    "    if gpa >= 8.0:\n",
    "        print(f'{s}: {gpa}')\n",
    "\n",
    "# List comprehension\n",
    "distinction_students = [s for s, gpa in students.items() if gpa >= 8.0]\n",
    "print(distinction_students)"
   ]
  },
  {
   "cell_type": "code",
   "execution_count": 37,
   "metadata": {},
   "outputs": [
    {
     "name": "stdout",
     "output_type": "stream",
     "text": [
      "['Paul McCartney', 'Mick Jagger', 'Ronnie Wood']\n"
     ]
    }
   ],
   "source": [
    "merit_students = [s for s, gpa in students.items() if 6.0 <= gpa < 8.0]\n",
    "print(merit_students)"
   ]
  },
  {
   "cell_type": "code",
   "execution_count": 38,
   "metadata": {},
   "outputs": [
    {
     "name": "stdout",
     "output_type": "stream",
     "text": [
      "['Bob Dylan', 'John Lennon', 'Charlie Watts']\n"
     ]
    }
   ],
   "source": [
    "pass_students = [s for s, gpa in students.items() if 4.0 <= gpa < 6.0]\n",
    "print(pass_students)"
   ]
  },
  {
   "cell_type": "code",
   "execution_count": 42,
   "metadata": {},
   "outputs": [
    {
     "name": "stdout",
     "output_type": "stream",
     "text": [
      "['Ringo Starr']\n"
     ]
    }
   ],
   "source": [
    "fail_students = [s for s, gpa in students.items() if gpa < 4.0]\n",
    "print(fail_students)"
   ]
  },
  {
   "cell_type": "code",
   "execution_count": 43,
   "metadata": {},
   "outputs": [
    {
     "name": "stdout",
     "output_type": "stream",
     "text": [
      "88.89%\n",
      "Success semester\n"
     ]
    }
   ],
   "source": [
    "#pass_rate = 100 * (len(pass_students) + len(merit_students) + len(distinction_students)) / len(students)\n",
    "pass_rate = 100 * (1 - len(fail_students) / len(students))\n",
    "print(f'{pass_rate:.2f}%')\n",
    "if pass_rate > 70:\n",
    "    print('Success semester')\n",
    "else:\n",
    "    print('Fail semester')"
   ]
  }
 ],
 "metadata": {
  "kernelspec": {
   "display_name": "Python 3",
   "language": "python",
   "name": "python3"
  },
  "language_info": {
   "codemirror_mode": {
    "name": "ipython",
    "version": 3
   },
   "file_extension": ".py",
   "mimetype": "text/x-python",
   "name": "python",
   "nbconvert_exporter": "python",
   "pygments_lexer": "ipython3",
   "version": "3.9.12"
  },
  "orig_nbformat": 4,
  "vscode": {
   "interpreter": {
    "hash": "aee8b7b246df8f9039afb4144a1f6fd8d2ca17a180786b69acc140d282b71a49"
   }
  }
 },
 "nbformat": 4,
 "nbformat_minor": 2
}
