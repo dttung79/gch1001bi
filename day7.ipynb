{
 "cells": [
  {
   "cell_type": "code",
   "execution_count": 2,
   "metadata": {},
   "outputs": [],
   "source": [
    "def print_matrix(a):\n",
    "    for row in a:\n",
    "        print(row)\n",
    "    print()"
   ]
  },
  {
   "cell_type": "code",
   "execution_count": 4,
   "metadata": {},
   "outputs": [
    {
     "name": "stdout",
     "output_type": "stream",
     "text": [
      "[41, 93, 51, 22, 74]\n",
      "[88, 23, 37, 96, 78]\n",
      "[87, 85, 38, 27, 18]\n",
      "[89, 14, 27, 61, 67]\n",
      "[72, 24, 95, 88, 96]\n",
      "\n"
     ]
    }
   ],
   "source": [
    "import random as rd\n",
    "# create 2d matrix 5x5\n",
    "a = [[rd.randint(10, 100) for i in range(5)] for j in range(5)]\n",
    "print_matrix(a)"
   ]
  },
  {
   "cell_type": "code",
   "execution_count": 5,
   "metadata": {},
   "outputs": [],
   "source": [
    "# Function in python is generic\n",
    "# You can pass any type of data to function \n",
    "# as long as it is accepted by the operations in the function\n",
    "\n",
    "def my_max(a, b):\n",
    "    return a if a > b else b"
   ]
  },
  {
   "cell_type": "code",
   "execution_count": null,
   "metadata": {},
   "outputs": [],
   "source": [
    "# call my_max with intergers\n",
    "print(my_max(10, 20))\n",
    "# call my_max with float\n",
    "print(my_max(10.5, 20.5))\n",
    "# call my_max with string\n",
    "print(my_max(\"abc\", \"xyz\"))\n",
    "# call my_max with list & a number\n",
    "print(my_max([1, 2, 3], 10)) # error because list is not comparable with number"
   ]
  },
  {
   "cell_type": "code",
   "execution_count": 10,
   "metadata": {},
   "outputs": [],
   "source": [
    "# Pass by value\n",
    "def swap(a, b):\n",
    "    a, b = b, a\n",
    "    print(f\"Inside swap: a = {a}, b = {b}\")"
   ]
  },
  {
   "cell_type": "code",
   "execution_count": 11,
   "metadata": {},
   "outputs": [
    {
     "name": "stdout",
     "output_type": "stream",
     "text": [
      "Inside swap: a = 10, b = 5\n",
      "Outside swap: a = 5, b = 10\n"
     ]
    }
   ],
   "source": [
    "a = 5\n",
    "b = 10\n",
    "swap(a, b)\n",
    "print(f\"Outside swap: a = {a}, b = {b}\")"
   ]
  },
  {
   "cell_type": "code",
   "execution_count": null,
   "metadata": {},
   "outputs": [],
   "source": [
    "# Pass by reference\n",
    "def swap_list(a, b):\n",
    "    for i in range(len(a)):\n",
    "        a[i], b[i] = b[i], a[i]\n",
    "    print(f\"Inside swap_list: a = {a}, b = {b}\")\n",
    "\n",
    "a = [1, 2, 3]\n",
    "b = [4, 5, 6]\n",
    "swap_list(a, b)\n",
    "print(f\"Outside swap_list: a = {a}, b = {b}\")\n",
    "# cannot call swap_list with tuple and string because they are immutable\n",
    "c = (1, 2, 3)\n",
    "d = (4, 5, 6)\n",
    "swap_list(c, d) # error"
   ]
  },
  {
   "cell_type": "code",
   "execution_count": 15,
   "metadata": {},
   "outputs": [
    {
     "ename": "TypeError",
     "evalue": "'str' object does not support item assignment",
     "output_type": "error",
     "traceback": [
      "\u001b[0;31m---------------------------------------------------------------------------\u001b[0m",
      "\u001b[0;31mTypeError\u001b[0m                                 Traceback (most recent call last)",
      "\u001b[1;32m/Volumes/GoogleDrive/My Drive/FPTU/Program - F2G new/Unit 14 - Business Intelligence/GCH1001/gch1001bi/day7.ipynb Cell 8\u001b[0m in \u001b[0;36m<cell line: 3>\u001b[0;34m()\u001b[0m\n\u001b[1;32m      <a href='vscode-notebook-cell:/Volumes/GoogleDrive/My%20Drive/FPTU/Program%20-%20F2G%20new/Unit%2014%20-%20Business%20Intelligence/GCH1001/gch1001bi/day7.ipynb#X11sZmlsZQ%3D%3D?line=0'>1</a>\u001b[0m s1 \u001b[39m=\u001b[39m \u001b[39m\"\u001b[39m\u001b[39mabc\u001b[39m\u001b[39m\"\u001b[39m\n\u001b[1;32m      <a href='vscode-notebook-cell:/Volumes/GoogleDrive/My%20Drive/FPTU/Program%20-%20F2G%20new/Unit%2014%20-%20Business%20Intelligence/GCH1001/gch1001bi/day7.ipynb#X11sZmlsZQ%3D%3D?line=1'>2</a>\u001b[0m s2 \u001b[39m=\u001b[39m \u001b[39m\"\u001b[39m\u001b[39mxyz\u001b[39m\u001b[39m\"\u001b[39m\n\u001b[0;32m----> <a href='vscode-notebook-cell:/Volumes/GoogleDrive/My%20Drive/FPTU/Program%20-%20F2G%20new/Unit%2014%20-%20Business%20Intelligence/GCH1001/gch1001bi/day7.ipynb#X11sZmlsZQ%3D%3D?line=2'>3</a>\u001b[0m swap_list(s1, s2)\n",
      "\u001b[1;32m/Volumes/GoogleDrive/My Drive/FPTU/Program - F2G new/Unit 14 - Business Intelligence/GCH1001/gch1001bi/day7.ipynb Cell 8\u001b[0m in \u001b[0;36mswap_list\u001b[0;34m(a, b)\u001b[0m\n\u001b[1;32m      <a href='vscode-notebook-cell:/Volumes/GoogleDrive/My%20Drive/FPTU/Program%20-%20F2G%20new/Unit%2014%20-%20Business%20Intelligence/GCH1001/gch1001bi/day7.ipynb#X11sZmlsZQ%3D%3D?line=1'>2</a>\u001b[0m \u001b[39mdef\u001b[39;00m \u001b[39mswap_list\u001b[39m(a, b):\n\u001b[1;32m      <a href='vscode-notebook-cell:/Volumes/GoogleDrive/My%20Drive/FPTU/Program%20-%20F2G%20new/Unit%2014%20-%20Business%20Intelligence/GCH1001/gch1001bi/day7.ipynb#X11sZmlsZQ%3D%3D?line=2'>3</a>\u001b[0m     \u001b[39mfor\u001b[39;00m i \u001b[39min\u001b[39;00m \u001b[39mrange\u001b[39m(\u001b[39mlen\u001b[39m(a)):\n\u001b[0;32m----> <a href='vscode-notebook-cell:/Volumes/GoogleDrive/My%20Drive/FPTU/Program%20-%20F2G%20new/Unit%2014%20-%20Business%20Intelligence/GCH1001/gch1001bi/day7.ipynb#X11sZmlsZQ%3D%3D?line=3'>4</a>\u001b[0m         a[i], b[i] \u001b[39m=\u001b[39m b[i], a[i]\n\u001b[1;32m      <a href='vscode-notebook-cell:/Volumes/GoogleDrive/My%20Drive/FPTU/Program%20-%20F2G%20new/Unit%2014%20-%20Business%20Intelligence/GCH1001/gch1001bi/day7.ipynb#X11sZmlsZQ%3D%3D?line=4'>5</a>\u001b[0m     \u001b[39mprint\u001b[39m(\u001b[39mf\u001b[39m\u001b[39m\"\u001b[39m\u001b[39mInside swap_list: a = \u001b[39m\u001b[39m{\u001b[39;00ma\u001b[39m}\u001b[39;00m\u001b[39m, b = \u001b[39m\u001b[39m{\u001b[39;00mb\u001b[39m}\u001b[39;00m\u001b[39m\"\u001b[39m)\n",
      "\u001b[0;31mTypeError\u001b[0m: 'str' object does not support item assignment"
     ]
    }
   ],
   "source": [
    "s1 = \"abc\"\n",
    "s2 = \"xyz\"\n",
    "swap_list(s1, s2) # error"
   ]
  },
  {
   "cell_type": "code",
   "execution_count": 23,
   "metadata": {},
   "outputs": [
    {
     "name": "stdout",
     "output_type": "stream",
     "text": [
      "[4, 5, 6]********[1, 2, 3]Bye!\n",
      "[4, 5, 6]********[1, 2, 3]Bye!"
     ]
    }
   ],
   "source": [
    "print(a, b, sep='********', end='Bye!')\n",
    "print()\n",
    "print(a, b, end='Bye!', sep='********')"
   ]
  },
  {
   "cell_type": "code",
   "execution_count": 29,
   "metadata": {},
   "outputs": [],
   "source": [
    "def my_func(a, b, n=10, s='hello'):\n",
    "    print(a, b, n, s, sep=' - ')"
   ]
  },
  {
   "cell_type": "code",
   "execution_count": 30,
   "metadata": {},
   "outputs": [
    {
     "name": "stdout",
     "output_type": "stream",
     "text": [
      "4 - 5 - 10 - hello\n"
     ]
    }
   ],
   "source": [
    "# call my_func, pass only a & b\n",
    "my_func(4, 5) # function will print default values of n & s"
   ]
  },
  {
   "cell_type": "code",
   "execution_count": 31,
   "metadata": {},
   "outputs": [
    {
     "name": "stdout",
     "output_type": "stream",
     "text": [
      "4 - 5 - 20 - hello\n",
      "4 - 5 - 20 - hello\n"
     ]
    }
   ],
   "source": [
    "# call my_func, pass a, b & n\n",
    "my_func(4, 5, 20) # function will print default value of s\n",
    "my_func(4, 5, n=20)"
   ]
  },
  {
   "cell_type": "code",
   "execution_count": 34,
   "metadata": {},
   "outputs": [
    {
     "name": "stdout",
     "output_type": "stream",
     "text": [
      "4 - 5 - 20 - python\n",
      "4 - 5 - 20 - python\n",
      "4 - 5 - python - 20\n",
      "4 - 5 - 20 - python\n",
      "4 - 5 - python - 20\n"
     ]
    }
   ],
   "source": [
    "my_func(4, 5, 20, 'python')\n",
    "my_func(4, 5, n=20, s='python')\n",
    "my_func(4, 5, 'python', 20)\n",
    "my_func(4, 5, s='python', n=20)\n",
    "my_func(4, 5, n='python', s=20)"
   ]
  },
  {
   "cell_type": "code",
   "execution_count": 35,
   "metadata": {},
   "outputs": [
    {
     "name": "stdout",
     "output_type": "stream",
     "text": [
      "4 - 5 - python - hello\n"
     ]
    }
   ],
   "source": [
    "my_func(4, 5, 'python')"
   ]
  },
  {
   "cell_type": "code",
   "execution_count": 37,
   "metadata": {},
   "outputs": [
    {
     "name": "stdout",
     "output_type": "stream",
     "text": [
      "<class 'tuple'>\n",
      "0\n",
      "<class 'tuple'>\n",
      "1\n",
      "<class 'tuple'>\n",
      "3\n",
      "<class 'tuple'>\n",
      "55\n"
     ]
    }
   ],
   "source": [
    "# Function can pass any number of arguments\n",
    "def sum_args(*items):\n",
    "    print(type(items))\n",
    "    s = 0\n",
    "    for i in items:\n",
    "        s += i\n",
    "    return s\n",
    "\n",
    "print(sum_args())\n",
    "print(sum_args(1))\n",
    "print(sum_args(1, 2))\n",
    "print(sum_args(1, 2, 3, 4, 5, 6, 7, 8, 9, 10))"
   ]
  },
  {
   "cell_type": "code",
   "execution_count": 38,
   "metadata": {},
   "outputs": [],
   "source": [
    "def sum_selected(*items, even=True):\n",
    "    s = 0\n",
    "    if even:\n",
    "        for i in items:\n",
    "            if i % 2 == 0:\n",
    "                s += i\n",
    "    else:\n",
    "        for i in items:\n",
    "            if i % 2 != 0:\n",
    "                s += i\n",
    "    return s"
   ]
  },
  {
   "cell_type": "code",
   "execution_count": 39,
   "metadata": {},
   "outputs": [
    {
     "name": "stdout",
     "output_type": "stream",
     "text": [
      "12\n",
      "9\n"
     ]
    }
   ],
   "source": [
    "print(sum_selected(1, 2, 3, 4, 5, 6))\n",
    "print(sum_selected(1, 2, 3, 4, 5, 6, even=False))"
   ]
  },
  {
   "cell_type": "code",
   "execution_count": 41,
   "metadata": {},
   "outputs": [],
   "source": [
    "def swap(a, b):\n",
    "    t = a\n",
    "    a = b\n",
    "    b = t\n",
    "    return a, b"
   ]
  },
  {
   "cell_type": "code",
   "execution_count": 42,
   "metadata": {},
   "outputs": [
    {
     "name": "stdout",
     "output_type": "stream",
     "text": [
      "10 5\n"
     ]
    }
   ],
   "source": [
    "a = 5\n",
    "b = 10\n",
    "a, b = swap(a, b)\n",
    "print(a, b)"
   ]
  },
  {
   "cell_type": "code",
   "execution_count": 51,
   "metadata": {},
   "outputs": [],
   "source": [
    "def min_max(items):\n",
    "    mi = ma = items[0]\n",
    "    for i in items:\n",
    "        if i < mi:\n",
    "            mi = i\n",
    "        if i > ma:\n",
    "            ma = i\n",
    "    return mi, ma"
   ]
  },
  {
   "cell_type": "code",
   "execution_count": 52,
   "metadata": {},
   "outputs": [
    {
     "name": "stdout",
     "output_type": "stream",
     "text": [
      "[44, 55, 27, 53, 5, 46, 82, 93, 77, 19]\n",
      "Min = 5, Max = 93\n"
     ]
    }
   ],
   "source": [
    "a = [rd.randint(0, 100) for i in range(10)]\n",
    "print(a)\n",
    "mina, maxa = min_max(a)\n",
    "print(f'Min = {mina}, Max = {maxa}')"
   ]
  },
  {
   "cell_type": "code",
   "execution_count": 53,
   "metadata": {},
   "outputs": [
    {
     "name": "stdout",
     "output_type": "stream",
     "text": [
      "Max = 93\n",
      "Min = 5\n"
     ]
    }
   ],
   "source": [
    "# if we want to get only min or max\n",
    "_, maxa = min_max(a)\n",
    "print(f'Max = {maxa}')\n",
    "mina, _ = min_max(a)\n",
    "print(f'Min = {mina}')"
   ]
  },
  {
   "cell_type": "code",
   "execution_count": 54,
   "metadata": {},
   "outputs": [
    {
     "name": "stdout",
     "output_type": "stream",
     "text": [
      "(5, 93) <class 'tuple'>\n"
     ]
    }
   ],
   "source": [
    "m = min_max(a)\n",
    "print(m, type(m))"
   ]
  }
 ],
 "metadata": {
  "kernelspec": {
   "display_name": "Python 3",
   "language": "python",
   "name": "python3"
  },
  "language_info": {
   "codemirror_mode": {
    "name": "ipython",
    "version": 3
   },
   "file_extension": ".py",
   "mimetype": "text/x-python",
   "name": "python",
   "nbconvert_exporter": "python",
   "pygments_lexer": "ipython3",
   "version": "3.9.12"
  },
  "orig_nbformat": 4,
  "vscode": {
   "interpreter": {
    "hash": "aee8b7b246df8f9039afb4144a1f6fd8d2ca17a180786b69acc140d282b71a49"
   }
  }
 },
 "nbformat": 4,
 "nbformat_minor": 2
}
