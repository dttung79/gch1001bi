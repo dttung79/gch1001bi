{
 "cells": [
  {
   "cell_type": "code",
   "execution_count": 2,
   "metadata": {},
   "outputs": [],
   "source": [
    "def sort_asc(items):\n",
    "    n = len(items)\n",
    "    for i in range(n):\n",
    "        for j in range(n-1):\n",
    "            if items[j] > items[j+1]:\n",
    "                items[j], items[j+1] = items[j+1], items[j]\n",
    "\n",
    "def sort_desc(items):\n",
    "    n = len(items)\n",
    "    for i in range(n):\n",
    "        for j in range(n-1):\n",
    "            if items[j] < items[j+1]:\n",
    "                items[j], items[j+1] = items[j+1], items[j]"
   ]
  },
  {
   "cell_type": "code",
   "execution_count": 3,
   "metadata": {},
   "outputs": [],
   "source": [
    "def sort_asc_desc(items, asc=True):\n",
    "    n = len(items)\n",
    "    for i in range(n):\n",
    "        for j in range(n-1):\n",
    "            if asc:\n",
    "                if items[j] > items[j+1]:\n",
    "                    items[j], items[j+1] = items[j+1], items[j]\n",
    "            else:\n",
    "                if items[j] < items[j+1]:\n",
    "                    items[j], items[j+1] = items[j+1], items[j]"
   ]
  },
  {
   "cell_type": "code",
   "execution_count": 4,
   "metadata": {},
   "outputs": [
    {
     "name": "stdout",
     "output_type": "stream",
     "text": [
      "['Mary Smith', 'John Lennon', 'Jane Doe', 'Bob Dylan', 'Alice in Wonderland']\n"
     ]
    }
   ],
   "source": [
    "names = ['John Lennon', 'Jane Doe', 'Bob Dylan', 'Alice in Wonderland', 'Mary Smith']\n",
    "sort_asc_desc(names, asc=False)\n",
    "print(names)"
   ]
  },
  {
   "cell_type": "code",
   "execution_count": 5,
   "metadata": {},
   "outputs": [],
   "source": [
    "def greater_than(a, b):\n",
    "    return a > b\n",
    "def less_than(a, b):\n",
    "    return a < b\n",
    "    \n",
    "def my_sort(items, compare=greater_than):\n",
    "    n = len(items)\n",
    "    for i in range(n):\n",
    "        for j in range(n-1):\n",
    "            if compare(items[j], items[j+1]):\n",
    "                items[j], items[j+1] = items[j+1], items[j]"
   ]
  },
  {
   "cell_type": "code",
   "execution_count": 6,
   "metadata": {},
   "outputs": [
    {
     "name": "stdout",
     "output_type": "stream",
     "text": [
      "[33, 61, 37, 19, 25, 45, 22, 29, 8, 13]\n",
      "[8, 13, 19, 22, 25, 29, 33, 37, 45, 61]\n",
      "[61, 45, 37, 33, 29, 25, 22, 19, 13, 8]\n"
     ]
    }
   ],
   "source": [
    "import random as rd\n",
    "numbers = [rd.randint(1, 100) for i in range(10)]\n",
    "print(numbers)\n",
    "my_sort(numbers) # default is greater_than (ascending)\n",
    "print(numbers)\n",
    "my_sort(numbers, less_than) # descending\n",
    "print(numbers)"
   ]
  },
  {
   "cell_type": "code",
   "execution_count": 7,
   "metadata": {},
   "outputs": [
    {
     "name": "stdout",
     "output_type": "stream",
     "text": [
      "['Jane Doe', 'Bob Dylan', 'Mary Smith', 'John Lennon', 'Alice in Wonderland']\n",
      "['Alice in Wonderland', 'John Lennon', 'Mary Smith', 'Bob Dylan', 'Jane Doe']\n"
     ]
    }
   ],
   "source": [
    "def greater_len(a, b):\n",
    "    return len(a) > len(b)\n",
    "def less_len(a, b):\n",
    "    return len(a) < len(b)\n",
    "\n",
    "my_sort(names, greater_len)\n",
    "print(names) # shortest first\n",
    "my_sort(names, less_len)\n",
    "print(names) # longest first"
   ]
  },
  {
   "cell_type": "code",
   "execution_count": 9,
   "metadata": {},
   "outputs": [
    {
     "name": "stdout",
     "output_type": "stream",
     "text": [
      "[95, 41, -27, 99, 99, 20, 21, -9, -18, 72, -80, -82, 74, 69, 64, 80, -90, -51, -32, -64]\n",
      "[-9, -18, 20, 21, -27, -32, 41, -51, 64, -64, 69, 72, 74, -80, 80, -82, -90, 95, 99, 99]\n",
      "[99, 99, 95, -90, -82, -80, 80, 74, 72, 69, 64, -64, -51, 41, -32, -27, 21, 20, -18, -9]\n"
     ]
    }
   ],
   "source": [
    "numbers = [rd.randint(-100, 100) for i in range(20)]\n",
    "print(numbers)\n",
    "\n",
    "# Write a compare function so that the list is sorted in descending order by absolute value\n",
    "def greater_abs(a, b):\n",
    "    return abs(a) > abs(b)\n",
    "def less_abs(a, b):\n",
    "    return abs(a) < abs(b)\n",
    "\n",
    "my_sort(numbers, greater_abs)\n",
    "print(numbers)\n",
    "my_sort(numbers, less_abs)\n",
    "print(numbers)"
   ]
  },
  {
   "cell_type": "code",
   "execution_count": 10,
   "metadata": {},
   "outputs": [
    {
     "name": "stdout",
     "output_type": "stream",
     "text": [
      "[91, 63, 13, 24, 44, 94, 34, 65, 35, 75, 75, 25, 86, 36, 56, 37, 98, 98, 69, 69]\n",
      "[69, 69, 98, 98, 37, 86, 36, 56, 65, 35, 75, 75, 25, 24, 44, 94, 34, 63, 13, 91]\n"
     ]
    }
   ],
   "source": [
    "numbers = [rd.randint(10, 100) for i in range(20)]\n",
    "# Sort by the last digit\n",
    "\n",
    "def greater_last_digit(a, b):\n",
    "    return a % 10 > b % 10\n",
    "def less_last_digit(a, b):\n",
    "    return a % 10 < b % 10\n",
    "\n",
    "my_sort(numbers, greater_last_digit)\n",
    "print(numbers)\n",
    "my_sort(numbers, less_last_digit)\n",
    "print(numbers)"
   ]
  },
  {
   "cell_type": "code",
   "execution_count": 12,
   "metadata": {},
   "outputs": [
    {
     "name": "stdout",
     "output_type": "stream",
     "text": [
      " No. Name                \n",
      "  1. John Lennon         \n",
      "  2. Jane Doe            \n",
      "  3. Bob Dylan           \n",
      "  4. Alice Decker        \n",
      "  5. Mary Smith          \n"
     ]
    }
   ],
   "source": [
    "def identity(a):\n",
    "    return a\n",
    "\n",
    "def print_items(items, col1, col2, show=identity):\n",
    "    print(f'{col1:>3s}. {col2:<20s}')\n",
    "    for i, item in enumerate(items):\n",
    "        print(f'{i+1:3d}. {show(item):<20}')\n",
    "\n",
    "names = ['John Lennon', 'Jane Doe', 'Bob Dylan', 'Alice Decker', 'Mary Smith']\n",
    "print_items(names, 'No', 'Name')"
   ]
  },
  {
   "cell_type": "code",
   "execution_count": 13,
   "metadata": {},
   "outputs": [
    {
     "name": "stdout",
     "output_type": "stream",
     "text": [
      " No. Length              \n",
      "  1. 11                  \n",
      "  2. 8                   \n",
      "  3. 9                   \n",
      "  4. 12                  \n",
      "  5. 10                  \n"
     ]
    }
   ],
   "source": [
    "print_items(names, 'No', 'Length', len)"
   ]
  },
  {
   "cell_type": "code",
   "execution_count": 15,
   "metadata": {},
   "outputs": [
    {
     "name": "stdout",
     "output_type": "stream",
     "text": [
      " No. Vowels              \n",
      "  1. 3                   \n",
      "  2. 4                   \n",
      "  3. 2                   \n",
      "  4. 5                   \n",
      "  5. 2                   \n"
     ]
    }
   ],
   "source": [
    "# Use print_items to print number of vowels in each name\n",
    "def count_vowels(name):\n",
    "    count = 0\n",
    "    for ch in name:\n",
    "        if ch.lower() in 'aeiou':\n",
    "            count += 1\n",
    "    return count\n",
    "\n",
    "print_items(names, 'No', 'Vowels', count_vowels)"
   ]
  },
  {
   "cell_type": "code",
   "execution_count": 17,
   "metadata": {},
   "outputs": [
    {
     "name": "stdout",
     "output_type": "stream",
     "text": [
      " No. Name                \n",
      "  1. John                \n",
      "  2. Paul                \n",
      "  3. George              \n",
      "  4. Ringo               \n",
      " No. Nick Name           \n",
      "  1. mickey              \n",
      "  2. donald              \n",
      "  3. goofy               \n",
      "  4. pluto               \n"
     ]
    }
   ],
   "source": [
    "names = {'John': 'mickey', 'Paul': 'donald', 'George': 'goofy', 'Ringo': 'pluto'}\n",
    "# use print_items to print names\n",
    "print_items(names, 'No', 'Name')\n",
    "# use print_items to print nick names\n",
    "def get_nick_name(name):\n",
    "    return names[name]\n",
    "print_items(names, 'No', 'Nick Name', get_nick_name)"
   ]
  },
  {
   "cell_type": "code",
   "execution_count": 19,
   "metadata": {},
   "outputs": [],
   "source": [
    "employees = [['John Lennon', '0867838383', 1000],\n",
    "             ['', '0867838aaa', 2500],\n",
    "             ['Bob Dylan Bob Dylan Boblan Bob Dylan Bob Dylan', '01238272722', 300],\n",
    "             ['Alice Decker', 'PPpp82268', 1088],\n",
    "             ['Mary Smith', '---678383==', 100]]\n",
    "\n",
    "def clean_employees(employees, fix_name, fix_phone, fix_salary):\n",
    "    for employee in employees:\n",
    "        employee[0] = fix_name(employee[0])\n",
    "        employee[1] = fix_phone(employee[1])\n",
    "        employee[2] = fix_salary(employee[2])\n",
    "\n",
    "# Write a function to fix name, phone and salary\n",
    "\n",
    "def fix_empty_name(name):\n",
    "    return 'John Doe' if name == '' else name\n",
    "\n",
    "def fix_long_name(name):\n",
    "    return name[:20]\n",
    "\n",
    "def fix_small_salary(salary):\n",
    "    return 200 if salary < 200 else salary\n",
    "\n",
    "def fix_big_salary(salary):\n",
    "    return 2000 if salary > 2000 else salary\n",
    "\n",
    "def fix_nothing(a):\n",
    "    return a"
   ]
  },
  {
   "cell_type": "code",
   "execution_count": 21,
   "metadata": {},
   "outputs": [
    {
     "name": "stdout",
     "output_type": "stream",
     "text": [
      "[['John Lennon', '0867838383', 1000], ['John Doe', '0867838aaa', 2500], ['Bob Dylan Bob Dylan Boblan Bob Dylan Bob Dylan', '01238272722', 300], ['Alice Decker', 'PPpp82268', 1088], ['Mary Smith', '---678383==', 200]]\n",
      "[['John Lennon', '0867838383', 1000], ['John Doe', '0867838aaa', 2000], ['Bob Dylan Bob Dylan ', '01238272722', 300], ['Alice Decker', 'PPpp82268', 1088], ['Mary Smith', '---678383==', 200]]\n"
     ]
    }
   ],
   "source": [
    "clean_employees(employees, fix_empty_name, fix_nothing, fix_small_salary)\n",
    "print(employees)\n",
    "clean_employees(employees, fix_long_name, fix_nothing, fix_big_salary)\n",
    "print(employees)"
   ]
  },
  {
   "cell_type": "code",
   "execution_count": 28,
   "metadata": {},
   "outputs": [],
   "source": [
    "def fix_phone(phone):\n",
    "    list_digits = [c if c.isdigit() else '0' for c in phone]\n",
    "    phone = ''.join(list_digits)\n",
    "    return phone"
   ]
  },
  {
   "cell_type": "code",
   "execution_count": 29,
   "metadata": {},
   "outputs": [
    {
     "name": "stdout",
     "output_type": "stream",
     "text": [
      "[['John Lennon', '0867838383', 1000], ['John Doe', '0867838000', 2000], ['Bob Dylan Bob Dylan ', '01238272722', 300], ['Alice Decker', '000082268', 1088], ['Mary Smith', '00067838300', 200]]\n"
     ]
    }
   ],
   "source": [
    "clean_employees(employees, fix_nothing, fix_phone, fix_nothing)\n",
    "print(employees)"
   ]
  },
  {
   "cell_type": "code",
   "execution_count": null,
   "metadata": {},
   "outputs": [],
   "source": []
  }
 ],
 "metadata": {
  "kernelspec": {
   "display_name": "Python 3",
   "language": "python",
   "name": "python3"
  },
  "language_info": {
   "codemirror_mode": {
    "name": "ipython",
    "version": 3
   },
   "file_extension": ".py",
   "mimetype": "text/x-python",
   "name": "python",
   "nbconvert_exporter": "python",
   "pygments_lexer": "ipython3",
   "version": "3.9.12"
  },
  "orig_nbformat": 4,
  "vscode": {
   "interpreter": {
    "hash": "aee8b7b246df8f9039afb4144a1f6fd8d2ca17a180786b69acc140d282b71a49"
   }
  }
 },
 "nbformat": 4,
 "nbformat_minor": 2
}
