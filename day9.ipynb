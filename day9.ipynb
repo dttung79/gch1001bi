{
 "cells": [
  {
   "cell_type": "code",
   "execution_count": null,
   "metadata": {},
   "outputs": [],
   "source": [
    "def greater_len(a, b):\n",
    "    return len(a) > len(b)\n",
    "\n",
    "def identity(x):\n",
    "    return x"
   ]
  },
  {
   "cell_type": "code",
   "execution_count": 1,
   "metadata": {},
   "outputs": [],
   "source": [
    "def my_sort(items, compare=lambda a, b: a > b):\n",
    "    n = len(items)\n",
    "    for i in range(n):\n",
    "        for j in range(n-1):\n",
    "            if compare(items[j], items[j+1]):\n",
    "                items[j], items[j+1] = items[j+1], items[j]"
   ]
  },
  {
   "cell_type": "code",
   "execution_count": null,
   "metadata": {},
   "outputs": [],
   "source": [
    "import numpy as np\n",
    "numbers = np.random.randint(0, 100, 10)\n",
    "print(numbers)\n",
    "my_sort(numbers)\n",
    "print(numbers)\n",
    "my_sort(numbers, lambda a, b: a < b)\n",
    "print(numbers)\n",
    "my_sort(numbers, lambda a, b: a % 10 > b % 10)\n",
    "print(numbers)"
   ]
  },
  {
   "cell_type": "code",
   "execution_count": 7,
   "metadata": {},
   "outputs": [
    {
     "name": "stdout",
     "output_type": "stream",
     "text": [
      "[  1 -20 -33  47 -63  72  79 -85  87  94]\n",
      "[ 94  87 -85  79  72 -63  47 -33 -20   1]\n",
      "[  1 -20 -33  72 -63  47  94 -85  87  79]\n",
      "[ 79  87  94  47  72 -33   1 -63 -20 -85]\n"
     ]
    }
   ],
   "source": [
    "numbers = np.random.randint(-99, 100, 10)\n",
    "# sort numbers ascending by absolute value\n",
    "my_sort(numbers, lambda a, b: abs(a) > abs(b))\n",
    "print(numbers)\n",
    "# sort numbers descending by absolute value\n",
    "my_sort(numbers, lambda a, b: abs(a) < abs(b))\n",
    "print(numbers)\n",
    "# sort numbers ascending by the sum of the digits\n",
    "my_sort(numbers, lambda a, b: abs(a) % 10 + abs(a) // 10 > abs(b) % 10 + abs(b) // 10)\n",
    "print(numbers)\n",
    "# sort numbers descending by the sum of the digits\n",
    "my_sort(numbers, lambda a, b: a % 10 + a // 10 < b % 10 + b // 10)\n",
    "print(numbers)"
   ]
  },
  {
   "cell_type": "code",
   "execution_count": 8,
   "metadata": {},
   "outputs": [],
   "source": [
    "# Write a function to find the 'most' element in a collection of elements.\n",
    "def most_superior(items, compare=lambda a, b: a > b):\n",
    "    n = len(items)\n",
    "    most = items[0]\n",
    "    for i in range(n):\n",
    "        if compare(items[i], most):\n",
    "            most = items[i]\n",
    "    return most"
   ]
  },
  {
   "cell_type": "code",
   "execution_count": 13,
   "metadata": {},
   "outputs": [
    {
     "name": "stdout",
     "output_type": "stream",
     "text": [
      "[52 63 69 51 48 82 96 46 37 93]\n",
      "96\n",
      "37\n",
      "37\n",
      "[48 23 20 73 32 58 82 11 17 44]\n",
      "48\n"
     ]
    }
   ],
   "source": [
    "print(numbers)\n",
    "m = most_superior(numbers) # max\n",
    "print(m)\n",
    "m = most_superior(numbers, lambda a, b: a < b) # min\n",
    "print(m)\n",
    "# Find the number which is closest to 0\n",
    "m = most_superior(numbers, lambda a, b: abs(a) < abs(b))\n",
    "print(m)\n",
    "numbers = np.random.randint(0, 100, 10)\n",
    "print(numbers)\n",
    "# Find the number which is closest to 50\n",
    "m = most_superior(numbers, lambda a, b: abs(a - 50) < abs(b - 50))\n",
    "print(m)"
   ]
  },
  {
   "cell_type": "code",
   "execution_count": null,
   "metadata": {},
   "outputs": [],
   "source": [
    "# Filter function syntax: filter(function, iterable)\n",
    "# For each item in iterable, \n",
    "# if function(item) is True, then the item is included in the result."
   ]
  },
  {
   "cell_type": "code",
   "execution_count": 15,
   "metadata": {},
   "outputs": [
    {
     "name": "stdout",
     "output_type": "stream",
     "text": [
      "[78 31 72 12 43 36 10 46  9 99 59 19 48 23 62 43 89 15 97 94]\n",
      "[78, 72, 12, 36, 10, 46, 48, 62, 94]\n",
      "[31, 43, 9, 99, 59, 19, 23, 43, 89, 15, 97]\n"
     ]
    }
   ],
   "source": [
    "numbers = np.random.randint(0, 100, 20)\n",
    "print(numbers)\n",
    "# filter even numbers\n",
    "evens = list(filter(lambda x: x % 2 == 0, numbers))\n",
    "print(evens)\n",
    "odds = list(filter(lambda x: x % 2 == 1, numbers))\n",
    "print(odds)"
   ]
  },
  {
   "cell_type": "code",
   "execution_count": 16,
   "metadata": {},
   "outputs": [
    {
     "name": "stdout",
     "output_type": "stream",
     "text": [
      "458\n"
     ]
    }
   ],
   "source": [
    "s = 0\n",
    "for n in numbers:\n",
    "    if n % 2 == 0:\n",
    "        s += n\n",
    "print(s)"
   ]
  },
  {
   "cell_type": "code",
   "execution_count": 17,
   "metadata": {},
   "outputs": [
    {
     "name": "stdout",
     "output_type": "stream",
     "text": [
      "458\n"
     ]
    }
   ],
   "source": [
    "evens = [n for n in numbers if n % 2 == 0]\n",
    "print(sum(evens))"
   ]
  },
  {
   "cell_type": "code",
   "execution_count": 18,
   "metadata": {},
   "outputs": [
    {
     "name": "stdout",
     "output_type": "stream",
     "text": [
      "458\n"
     ]
    }
   ],
   "source": [
    "evens = filter(lambda x: x % 2 == 0, numbers)\n",
    "print(sum(evens))"
   ]
  },
  {
   "cell_type": "code",
   "execution_count": 20,
   "metadata": {},
   "outputs": [
    {
     "name": "stdout",
     "output_type": "stream",
     "text": [
      "[ 77 -30 -65 -56  99 -78 -16 -43 -57 -45  62   2 -72 -99 -94 -36  -6  67\n",
      " -41  59]\n",
      "-6\n",
      "2\n"
     ]
    }
   ],
   "source": [
    "numbers = np.random.randint(-99, 100, 20)\n",
    "print(numbers)\n",
    "# Find max of negative numbers\n",
    "print(max(filter(lambda x: x < 0, numbers)))\n",
    "# Find min of positive numbers\n",
    "print(min(filter(lambda x: x > 0, numbers)))"
   ]
  },
  {
   "cell_type": "code",
   "execution_count": 22,
   "metadata": {},
   "outputs": [
    {
     "name": "stdout",
     "output_type": "stream",
     "text": [
      "Best student is Mary\n",
      "Nerd student is Jane\n"
     ]
    }
   ],
   "source": [
    "# Each student has GPA and activity score\n",
    "students = {'John': (7.5, 90), 'Mary': (8.5, 95), 'Bob': (6.0, 80),\n",
    "            'Alice': (5.5, 45), 'Peter': (8.0, 70), 'Jane': (9.0, 30)}\n",
    "# Best student is the one with the GPA > 7.0 and highest activity score\n",
    "candidates = filter(lambda x: x[1][0] > 7.0, students.items())\n",
    "best_student = max(candidates, key=lambda x: x[1][1])\n",
    "print(f'Best student is {best_student[0]}')\n",
    "\n",
    "# Find the most nerd student (activity score < 50 and highest GPA)\n",
    "candidates = filter(lambda x: x[1][1] < 50, students.items())\n",
    "nerd_student = max(candidates, key=lambda x: x[1][0])\n",
    "print(f'Nerd student is {nerd_student[0]}')"
   ]
  },
  {
   "cell_type": "code",
   "execution_count": 24,
   "metadata": {},
   "outputs": [
    {
     "name": "stdout",
     "output_type": "stream",
     "text": [
      "[-66 -29 -16  57 -18  67 -48 -81 -13  52]\n",
      "[-132, -58, -32, 114, -36, 134, -96, -162, -26, 104]\n",
      "[66, 29, 16, 57, 18, 67, 48, 81, 13, 52]\n"
     ]
    }
   ],
   "source": [
    "# Map function syntax: map(function, iterable)\n",
    "# Convert each item in iterable to a new item using function\n",
    "numbers = np.random.randint(-99, 100, 10)\n",
    "print(numbers)\n",
    "# double each number\n",
    "double_numbers = list(map(lambda x: x * 2, numbers))\n",
    "print(double_numbers)\n",
    "# convert negative numbers to positive\n",
    "positive_numbers = list(map(lambda x: x if x > 0 else -x, numbers))\n",
    "print(positive_numbers)"
   ]
  },
  {
   "cell_type": "code",
   "execution_count": 25,
   "metadata": {},
   "outputs": [
    {
     "name": "stdout",
     "output_type": "stream",
     "text": [
      "['John', 'Mary', 'Unknown', 'Alice', 'Unknown', 'Jane']\n"
     ]
    }
   ],
   "source": [
    "names = ['John', 'Mary', '', 'Alice', '', 'Jane']\n",
    "# convert empty names => default name (e.g. 'Unknown')\n",
    "names = list(map(lambda x: x if x != '' else 'Unknown', names))\n",
    "print(names)"
   ]
  }
 ],
 "metadata": {
  "kernelspec": {
   "display_name": "Python 3",
   "language": "python",
   "name": "python3"
  },
  "language_info": {
   "codemirror_mode": {
    "name": "ipython",
    "version": 3
   },
   "file_extension": ".py",
   "mimetype": "text/x-python",
   "name": "python",
   "nbconvert_exporter": "python",
   "pygments_lexer": "ipython3",
   "version": "3.9.12"
  },
  "orig_nbformat": 4,
  "vscode": {
   "interpreter": {
    "hash": "aee8b7b246df8f9039afb4144a1f6fd8d2ca17a180786b69acc140d282b71a49"
   }
  }
 },
 "nbformat": 4,
 "nbformat_minor": 2
}
